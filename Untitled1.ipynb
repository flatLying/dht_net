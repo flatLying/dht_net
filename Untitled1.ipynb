{
 "cells": [
  {
   "cell_type": "code",
   "execution_count": 41,
   "id": "d26851f6",
   "metadata": {},
   "outputs": [
    {
     "name": "stdout",
     "output_type": "stream",
     "text": [
      "Overwriting get_file_name.py\n"
     ]
    }
   ],
   "source": [
    "%%writefile get_file_name.py\n",
    "import requests\n",
    "import re\n",
    "\n",
    "\n",
    "url = \"https://pan.baidu.com/rest/2.0/services/cloud_dl?clienttype=0&app_id=250528&web=1&dp-logid=43242100852157320049&bdstoken=a3bb2fa205f492a811c374b943a3e6fc\"\n",
    "headers = {\n",
    "    \"Accept\": \"application/json, text/plain, */*\",\n",
    "    \"Accept-Encoding\": \"utf-8, deflate, br\",\n",
    "    \"Accept-Language\": \"zh-CN,zh;q=0.9\",\n",
    "    \"Connection\": \"keep-alive\",\n",
    "    \"Content-Length\": \"140\",\n",
    "    \"Content-Type\": \"application/x-www-form-urlencoded\",\n",
    "    \"Cookie\": \"__yjs_duid=1_a33657c018711a6b934b2ea391ca994b1618057664777; BIDUPSID=4E3545E3792E6F13140D787EC1DC899A; PSTM=1620917951; H_WISE_SIDS=107313_110085_127969_164869_179348_182232_184716_186635_186743_186841_187726_189093_189258_189325_189732_189755_190248_190617_190794_191067_191254_191368_192206_192237_192351_192408_193284_193560_194085_194511_194519_194583_195189_195328_195342_195477_195632_195679_195819_195913_195934_196045_196051_196230_196428_196493_196514_196518_196925_197004_197030_197242_197577_197711_197783_197955_197973_198121_198188_198268_198419_198510_198538_198591_198648_198997_199176_199234_199305_199467_199566_199666_199753_199866_200276_200445_200559_200736_8000089_8000118_8000125_8000135_8000145_8000149_8000163_8000173_8000178_8000183_8000186; BAIDUID=D559277BF54DD45467055202CB070F9F:FG=1; BAIDUID_BFESS=D559277BF54DD45467055202CB070F9F:FG=1; Hm_lvt_7a3960b6f067eb0085b7f96ff5e660b0=1651364068; PANWEB=1; SCRC=4a5344cfcc4209f2fc00e800949d31ea; BA_HECTOR=050h8g01240g24043q1h7q9ee0q; BDORZ=B490B5EBF6F3CD402E515D22BCDA1598; H_PS_PSSID=31253_36443_36165_34584_35979_36055_36233_26350_36301; BDUSS=1sVkZ1NFdoOHg0NHRxa001WEtGd0Z3VWUxRDlVNWVYcWdXaWRXUUdUMXZqS1ZpRUFBQUFBJCQAAAAAAAAAAAEAAACBSK1CbmljZcSpyNW2wLDXAAAAAAAAAAAAAAAAAAAAAAAAAAAAAAAAAAAAAAAAAAAAAAAAAAAAAAAAAAAAAAAAAAAAAG~~fWJv~31iWi; BDUSS_BFESS=1sVkZ1NFdoOHg0NHRxa001WEtGd0Z3VWUxRDlVNWVYcWdXaWRXUUdUMXZqS1ZpRUFBQUFBJCQAAAAAAAAAAAEAAACBSK1CbmljZcSpyNW2wLDXAAAAAAAAAAAAAAAAAAAAAAAAAAAAAAAAAAAAAAAAAAAAAAAAAAAAAAAAAAAAAAAAAAAAAG~~fWJv~31iWi; csrfToken=3NSJ_UooYB62cjHKz2fO7mvg; STOKEN=4896fc8f3b17871a2cdc14dd8c0742770f18a6b8f69b59fdf62f491a0384b797; ndut_fmt=D0C1D553650119EE704C31555B36177C4E8B06D99166000063739E6406D4AB97\",\n",
    "    \"Host\": \"pan.baidu.com\",\n",
    "    \"Origin\": \"https://pan.baidu.com\",\n",
    "    \"Referer\": \"https://pan.baidu.com/disk/main?from=homeFlow\",\n",
    "    \"Sec-Fetch-Dest\": \"empty\",\n",
    "    \"Sec-Fetch-Mode\": \"cors\",\n",
    "    \"Sec-Fetch-Site\": \"same-origin\",\n",
    "    \"User-Agent\": \"Mozilla/5.0 (Windows NT 10.0; WOW64) AppleWebKit/537.36 (KHTML, like Gecko) Chrome/86.0.4240.198 Safari/537.36\",\n",
    "    \"X-Requested-With\": \"XMLHttpRequest\",\n",
    "}\n",
    "\n",
    "#读取磁力链接，生成urls磁力链接列表\n",
    "urls = []\n",
    "lines = open(r\"测试数据.txt\",\"r\",encoding=\"utf-8\")\n",
    "for line in lines:\n",
    "    try:\n",
    "        urls.append(re.search(r\"magnet\\:.*\",line)[0][:-1])\n",
    "    except:\n",
    "        pass\n",
    "\n",
    "#定义函数fun，根据磁力链接source_url,获取对应的文件名称\n",
    "def fun(source_url,headers):\n",
    "    data = {\n",
    "    \"method\":\"query_magnetinfo\",\n",
    "    \"app_id\":\"250528\",\n",
    "    \"source_url\":source_url}\n",
    "    try:\n",
    "        r= requests.post(url,headers=headers,data=data) #发送请求\n",
    "        print(r.text)\n",
    "        r.text[2:]\n",
    "        file_name = eval(r.text[2:])[\"magnet_info\"][0][\"file_name\"]\n",
    "        print(file_name)\n",
    "        with open(r\"链接对应文件名.txt\",\"a\") as f: #将文件名和磁力链接逐行保存\n",
    "            f.write(file_name+\"\\n\"+source_url+\"\\n\"+\"\\n\")        \n",
    "    except:\n",
    "        file_name = \"False\"\n",
    "        print(file_name)\n",
    "        with open(r\"链接对应文件名.txt\",\"a\") as f:\n",
    "            f.write(file_name+\"\\n\"+source_url+\"\\n\"+\"\\n\")\n",
    "def run(urls):\n",
    "    for source_url in urls:\n",
    "        fun(source_url,headers)\n",
    "        \n",
    "if __name__==\"__main__\":\n",
    "    run(urls)\n",
    "        "
   ]
  },
  {
   "cell_type": "code",
   "execution_count": 39,
   "id": "8eadaa7f",
   "metadata": {},
   "outputs": [
    {
     "name": "stdout",
     "output_type": "stream",
     "text": [
      "下载频率过多，不能下载\n"
     ]
    }
   ],
   "source": [
    "print(\"\\u4e0b\\u8f7d\\u9891\\u7387\\u8fc7\\u591a\\uff0c\\u4e0d\\u80fd\\u4e0b\\u8f7d\")"
   ]
  },
  {
   "cell_type": "code",
   "execution_count": null,
   "id": "5e74615b",
   "metadata": {},
   "outputs": [],
   "source": []
  }
 ],
 "metadata": {
  "kernelspec": {
   "display_name": "Python 3",
   "language": "python",
   "name": "python3"
  },
  "language_info": {
   "codemirror_mode": {
    "name": "ipython",
    "version": 3
   },
   "file_extension": ".py",
   "mimetype": "text/x-python",
   "name": "python",
   "nbconvert_exporter": "python",
   "pygments_lexer": "ipython3",
   "version": "3.8.8"
  }
 },
 "nbformat": 4,
 "nbformat_minor": 5
}
